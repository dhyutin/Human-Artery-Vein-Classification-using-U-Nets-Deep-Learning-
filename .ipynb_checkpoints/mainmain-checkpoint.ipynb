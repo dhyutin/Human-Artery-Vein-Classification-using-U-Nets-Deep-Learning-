{
 "cells": [
  {
   "cell_type": "code",
   "execution_count": 52,
   "id": "e6c6c166",
   "metadata": {},
   "outputs": [],
   "source": [
    "import os\n",
    "import tensorflow as tf\n",
    "from tensorflow.keras.layers import Conv2D,\\\n",
    "\tMaxPool2D, Conv2DTranspose, Input, Activation,\\\n",
    "\tConcatenate, CenterCrop\n",
    "from tensorflow.keras import Model\n",
    "from tensorflow.keras.initializers import HeNormal\n",
    "from tensorflow.keras.optimizers import schedules, Adam\n",
    "from tensorflow.keras.losses import SparseCategoricalCrossentropy\n",
    "from tensorflow.keras.callbacks import TensorBoard\n",
    "from tensorflow.keras.utils import plot_model\n",
    "import tensorflow_datasets as tfds\n",
    "import matplotlib.pyplot as plt\n",
    "import cv2\n",
    "import numpy as np\n"
   ]
  },
  {
   "cell_type": "code",
   "execution_count": 66,
   "id": "51ff80f3",
   "metadata": {},
   "outputs": [],
   "source": [
    "# Dataset - Training and Testing Sets\n",
    "\n",
    "train_address_input = r\"C:\\Users\\dhyut\\SEM 7\\DL Project\\RITE_Dataset\\training\\images\"\n",
    "train_address_vessel = r\"C:\\Users\\dhyut\\SEM 7\\DL Project\\RITE_Dataset\\training\\vessel\"\n",
    "train_data_ip = []\n",
    "train_data_vessel = []\n",
    "img_names_train = []\n",
    "\n",
    "test_address_input = r\"C:\\Users\\dhyut\\SEM 7\\DL Project\\RITE_Dataset\\test\\images\"\n",
    "test_address_vessel = r\"C:\\Users\\dhyut\\SEM 7\\DL Project\\RITE_Dataset\\test\\vessel\"\n",
    "test_data_ip = []\n",
    "test_data_vessel = []\n",
    "img_names_test = []\n",
    "\n",
    "for img in os.listdir(train_address_input):\n",
    "    img_name = os.path.join(train_address_input, img)\n",
    "    img_names_train.append(img_name)\n",
    "    img_names_train.append(img_name)\n",
    "    img = cv2.imread(img_name)\n",
    "    \n",
    "#     img = cv2.resize(img, (360, 360))\n",
    "    train_data_ip.append(img)\n",
    "\n",
    "for img in os.listdir(train_address_vessel):\n",
    "    img_name = os.path.join(train_address_vessel, img)\n",
    "    img = cv2.imread(img_name)\n",
    "#     img = cv2.resize(img, (360, 360))\n",
    "    img = cv2.cvtColor(img, cv2.COLOR_BGR2GRAY)\n",
    "    img = img.flatten()\n",
    "    train_data_vessel.append(img)\n",
    "    \n",
    "for img in os.listdir(test_address_input):\n",
    "    img_name = os.path.join(test_address_input, img)\n",
    "    img_names_test.append(img_name)\n",
    "    img = cv2.imread(img_name)\n",
    "#     img = cv2.resize(img, (360, 360))\n",
    "    test_data_ip.append(img)\n",
    "    img_names_test.append(img_name)\n",
    "\n",
    "for img in os.listdir(test_address_vessel):\n",
    "    img_name = os.path.join(test_address_vessel, img)\n",
    "    img = cv2.imread(img_name)\n",
    "    img = cv2.cvtColor(img, cv2.COLOR_BGR2GRAY)\n",
    "    img = img.flatten()\n",
    "#     img = cv2.resize(img, (360, 360))\n",
    "    test_data_vessel.append(img)\n"
   ]
  },
  {
   "cell_type": "code",
   "execution_count": 67,
   "id": "1d8213c2",
   "metadata": {},
   "outputs": [],
   "source": [
    "EPOCHS = 10\n",
    "IMG_WIDTH = 584\n",
    "IMG_HEIGHT = 565\n",
    "NUM_CATEGORIES = 329960\n",
    "\n",
    "def get_model():\n",
    "\n",
    "    # defining a model\n",
    "    model = tf.keras.models.Sequential()\n",
    "\n",
    "    # Convolution and MaxPooling\n",
    "    convolution = tf.keras.layers.Conv2D(32, (3, 3), activation='relu', input_shape=(IMG_WIDTH, IMG_HEIGHT, 3))\n",
    "    model.add(convolution)\n",
    "    max_pool = tf.keras.layers.MaxPooling2D(pool_size = (2,2))\n",
    "    model.add(max_pool)\n",
    "\n",
    "    convolution = tf.keras.layers.Conv2D(64, (3, 3), activation='relu', input_shape=(IMG_WIDTH, IMG_HEIGHT, 3))\n",
    "    model.add(convolution)\n",
    "    max_pool = tf.keras.layers.MaxPooling2D(pool_size = (2,2))\n",
    "    model.add(max_pool)\n",
    "\n",
    "    convolution = tf.keras.layers.Conv2D(128, (3, 3), activation='relu', input_shape=(IMG_WIDTH, IMG_HEIGHT, 3))\n",
    "    model.add(convolution)\n",
    "    max_pool = tf.keras.layers.MaxPooling2D(pool_size = (2,2))\n",
    "    model.add(max_pool)\n",
    "\n",
    "    # Flatten\n",
    "    flatten = tf.keras.layers.Flatten()\n",
    "    model.add(flatten)\n",
    "\n",
    "    #Hidden layer\n",
    "    hidden =  tf.keras.layers.Dense(128, activation=\"relu\")\n",
    "    model.add(hidden)\n",
    "    dropout = tf.keras.layers.Dropout(0.5)\n",
    "    model.add(dropout)\n",
    "\n",
    "    #output layer\n",
    "    output = tf.keras.layers.Dense(NUM_CATEGORIES, activation=\"softmax\")\n",
    "    model.add(output)\n",
    "    model.compile(optimizer=\"adam\", loss=\"categorical_crossentropy\", metrics=[\"accuracy\"])\n",
    "    model.summary()\n",
    "    return model\n",
    "\n",
    "    # raise NotImplementedError"
   ]
  },
  {
   "cell_type": "code",
   "execution_count": 68,
   "id": "e5a6b0f3",
   "metadata": {},
   "outputs": [
    {
     "name": "stdout",
     "output_type": "stream",
     "text": [
      "Model: \"sequential_7\"\n",
      "_________________________________________________________________\n",
      " Layer (type)                Output Shape              Param #   \n",
      "=================================================================\n",
      " conv2d_21 (Conv2D)          (None, 582, 563, 32)      896       \n",
      "                                                                 \n",
      " max_pooling2d_21 (MaxPoolin  (None, 291, 281, 32)     0         \n",
      " g2D)                                                            \n",
      "                                                                 \n",
      " conv2d_22 (Conv2D)          (None, 289, 279, 64)      18496     \n",
      "                                                                 \n",
      " max_pooling2d_22 (MaxPoolin  (None, 144, 139, 64)     0         \n",
      " g2D)                                                            \n",
      "                                                                 \n",
      " conv2d_23 (Conv2D)          (None, 142, 137, 128)     73856     \n",
      "                                                                 \n",
      " max_pooling2d_23 (MaxPoolin  (None, 71, 68, 128)      0         \n",
      " g2D)                                                            \n",
      "                                                                 \n",
      " flatten_7 (Flatten)         (None, 617984)            0         \n",
      "                                                                 \n",
      " dense_14 (Dense)            (None, 128)               79102080  \n",
      "                                                                 \n",
      " dropout_7 (Dropout)         (None, 128)               0         \n",
      "                                                                 \n",
      " dense_15 (Dense)            (None, 329960)            42564840  \n",
      "                                                                 \n",
      "=================================================================\n",
      "Total params: 121,760,168\n",
      "Trainable params: 121,760,168\n",
      "Non-trainable params: 0\n",
      "_________________________________________________________________\n"
     ]
    },
    {
     "ename": "ValueError",
     "evalue": "Data cardinality is ambiguous:\n  x sizes: 584, 584, 584, 584, 584, 584, 584, 584, 584, 584, 584, 584, 584, 584, 584, 584, 584, 584, 584, 584\n  y sizes: 329960, 329960, 329960, 329960, 329960, 329960, 329960, 329960, 329960, 329960, 329960, 329960, 329960, 329960, 329960, 329960, 329960, 329960, 329960, 329960\nMake sure all arrays contain the same number of samples.",
     "output_type": "error",
     "traceback": [
      "\u001b[1;31m---------------------------------------------------------------------------\u001b[0m",
      "\u001b[1;31mValueError\u001b[0m                                Traceback (most recent call last)",
      "Input \u001b[1;32mIn [68]\u001b[0m, in \u001b[0;36m<cell line: 5>\u001b[1;34m()\u001b[0m\n\u001b[0;32m      2\u001b[0m model \u001b[38;5;241m=\u001b[39m get_model()\n\u001b[0;32m      4\u001b[0m \u001b[38;5;66;03m# Fit model on training data\u001b[39;00m\n\u001b[1;32m----> 5\u001b[0m \u001b[43mmodel\u001b[49m\u001b[38;5;241;43m.\u001b[39;49m\u001b[43mfit\u001b[49m\u001b[43m(\u001b[49m\u001b[43mtrain_data_ip\u001b[49m\u001b[43m,\u001b[49m\u001b[43m \u001b[49m\u001b[43mtrain_data_vessel\u001b[49m\u001b[43m,\u001b[49m\u001b[43m \u001b[49m\u001b[43mepochs\u001b[49m\u001b[38;5;241;43m=\u001b[39;49m\u001b[43mEPOCHS\u001b[49m\u001b[43m)\u001b[49m\n\u001b[0;32m      7\u001b[0m \u001b[38;5;66;03m# Evaluate neural network performance\u001b[39;00m\n\u001b[0;32m      8\u001b[0m model\u001b[38;5;241m.\u001b[39mevaluate(train_data_ip, train_data_vessel, verbose\u001b[38;5;241m=\u001b[39m\u001b[38;5;241m2\u001b[39m)\n",
      "File \u001b[1;32mc:\\users\\dhyut\\appdata\\local\\programs\\python\\python38\\lib\\site-packages\\keras\\utils\\traceback_utils.py:70\u001b[0m, in \u001b[0;36mfilter_traceback.<locals>.error_handler\u001b[1;34m(*args, **kwargs)\u001b[0m\n\u001b[0;32m     67\u001b[0m     filtered_tb \u001b[38;5;241m=\u001b[39m _process_traceback_frames(e\u001b[38;5;241m.\u001b[39m__traceback__)\n\u001b[0;32m     68\u001b[0m     \u001b[38;5;66;03m# To get the full stack trace, call:\u001b[39;00m\n\u001b[0;32m     69\u001b[0m     \u001b[38;5;66;03m# `tf.debugging.disable_traceback_filtering()`\u001b[39;00m\n\u001b[1;32m---> 70\u001b[0m     \u001b[38;5;28;01mraise\u001b[39;00m e\u001b[38;5;241m.\u001b[39mwith_traceback(filtered_tb) \u001b[38;5;28;01mfrom\u001b[39;00m \u001b[38;5;28mNone\u001b[39m\n\u001b[0;32m     71\u001b[0m \u001b[38;5;28;01mfinally\u001b[39;00m:\n\u001b[0;32m     72\u001b[0m     \u001b[38;5;28;01mdel\u001b[39;00m filtered_tb\n",
      "File \u001b[1;32mc:\\users\\dhyut\\appdata\\local\\programs\\python\\python38\\lib\\site-packages\\keras\\engine\\data_adapter.py:1851\u001b[0m, in \u001b[0;36m_check_data_cardinality\u001b[1;34m(data)\u001b[0m\n\u001b[0;32m   1844\u001b[0m     msg \u001b[38;5;241m+\u001b[39m\u001b[38;5;241m=\u001b[39m \u001b[38;5;124m\"\u001b[39m\u001b[38;5;124m  \u001b[39m\u001b[38;5;132;01m{}\u001b[39;00m\u001b[38;5;124m sizes: \u001b[39m\u001b[38;5;132;01m{}\u001b[39;00m\u001b[38;5;130;01m\\n\u001b[39;00m\u001b[38;5;124m\"\u001b[39m\u001b[38;5;241m.\u001b[39mformat(\n\u001b[0;32m   1845\u001b[0m         label,\n\u001b[0;32m   1846\u001b[0m         \u001b[38;5;124m\"\u001b[39m\u001b[38;5;124m, \u001b[39m\u001b[38;5;124m\"\u001b[39m\u001b[38;5;241m.\u001b[39mjoin(\n\u001b[0;32m   1847\u001b[0m             \u001b[38;5;28mstr\u001b[39m(i\u001b[38;5;241m.\u001b[39mshape[\u001b[38;5;241m0\u001b[39m]) \u001b[38;5;28;01mfor\u001b[39;00m i \u001b[38;5;129;01min\u001b[39;00m tf\u001b[38;5;241m.\u001b[39mnest\u001b[38;5;241m.\u001b[39mflatten(single_data)\n\u001b[0;32m   1848\u001b[0m         ),\n\u001b[0;32m   1849\u001b[0m     )\n\u001b[0;32m   1850\u001b[0m msg \u001b[38;5;241m+\u001b[39m\u001b[38;5;241m=\u001b[39m \u001b[38;5;124m\"\u001b[39m\u001b[38;5;124mMake sure all arrays contain the same number of samples.\u001b[39m\u001b[38;5;124m\"\u001b[39m\n\u001b[1;32m-> 1851\u001b[0m \u001b[38;5;28;01mraise\u001b[39;00m \u001b[38;5;167;01mValueError\u001b[39;00m(msg)\n",
      "\u001b[1;31mValueError\u001b[0m: Data cardinality is ambiguous:\n  x sizes: 584, 584, 584, 584, 584, 584, 584, 584, 584, 584, 584, 584, 584, 584, 584, 584, 584, 584, 584, 584\n  y sizes: 329960, 329960, 329960, 329960, 329960, 329960, 329960, 329960, 329960, 329960, 329960, 329960, 329960, 329960, 329960, 329960, 329960, 329960, 329960, 329960\nMake sure all arrays contain the same number of samples."
     ]
    }
   ],
   "source": [
    "\n",
    "\n",
    "# Get a compiled neural network\n",
    "model = get_model()\n",
    "\n",
    "# Fit model on training data\n",
    "model.fit(train_data_ip, train_data_vessel, epochs=EPOCHS)\n",
    "\n",
    "# Evaluate neural network performance\n",
    "model.evaluate(train_data_ip, train_data_vessel, verbose=2)"
   ]
  },
  {
   "cell_type": "code",
   "execution_count": 20,
   "id": "e73a1c93",
   "metadata": {},
   "outputs": [
    {
     "data": {
      "image/png": "[encoded data removed]",
      "text/plain": [
       "<Figure size 640x480 with 1 Axes>"
      ]
     },
     "metadata": {},
     "output_type": "display_data"
    }
   ],
   "source": [
    "# plt.imshow(img)\n",
    "# plt.title('my picture')\n",
    "# plt.show()"
   ]
  },
  {
   "cell_type": "code",
   "execution_count": 69,
   "id": "77bfa13c",
   "metadata": {},
   "outputs": [
    {
     "data": {
      "text/plain": [
       "(584, 565, 3)"
      ]
     },
     "execution_count": 69,
     "metadata": {},
     "output_type": "execute_result"
    }
   ],
   "source": [
    "train_data_ip[0].shape"
   ]
  },
  {
   "cell_type": "code",
   "execution_count": 62,
   "id": "349a6b8e",
   "metadata": {},
   "outputs": [
    {
     "name": "stdout",
     "output_type": "stream",
     "text": [
      "Model: \"sequential_6\"\n",
      "_________________________________________________________________\n",
      " Layer (type)                Output Shape              Param #   \n",
      "=================================================================\n",
      " conv2d_18 (Conv2D)          (None, 582, 563, 32)      896       \n",
      "                                                                 \n",
      " max_pooling2d_18 (MaxPoolin  (None, 291, 281, 32)     0         \n",
      " g2D)                                                            \n",
      "                                                                 \n",
      " conv2d_19 (Conv2D)          (None, 289, 279, 64)      18496     \n",
      "                                                                 \n",
      " max_pooling2d_19 (MaxPoolin  (None, 144, 139, 64)     0         \n",
      " g2D)                                                            \n",
      "                                                                 \n",
      " conv2d_20 (Conv2D)          (None, 142, 137, 128)     73856     \n",
      "                                                                 \n",
      " max_pooling2d_20 (MaxPoolin  (None, 71, 68, 128)      0         \n",
      " g2D)                                                            \n",
      "                                                                 \n",
      " flatten_6 (Flatten)         (None, 617984)            0         \n",
      "                                                                 \n",
      " dense_12 (Dense)            (None, 128)               79102080  \n",
      "                                                                 \n",
      " dropout_6 (Dropout)         (None, 128)               0         \n",
      "                                                                 \n",
      " dense_13 (Dense)            (None, 329960)            42564840  \n",
      "                                                                 \n",
      "=================================================================\n",
      "Total params: 121,760,168\n",
      "Trainable params: 121,760,168\n",
      "Non-trainable params: 0\n",
      "_________________________________________________________________\n"
     ]
    }
   ],
   "source": [
    "EPOCHS = 10\n",
    "IMG_WIDTH = 584\n",
    "IMG_HEIGHT = 565\n",
    "NUM_CATEGORIES = 329960\n",
    "\n",
    "\n",
    "\n",
    "    # defining a model\n",
    "model = tf.keras.models.Sequential()\n",
    "\n",
    "    # Convolution and MaxPooling\n",
    "convolution = tf.keras.layers.Conv2D(32, (3, 3), activation='relu', input_shape=(IMG_WIDTH, IMG_HEIGHT, 3))\n",
    "model.add(convolution)\n",
    "max_pool = tf.keras.layers.MaxPooling2D(pool_size = (2,2))\n",
    "model.add(max_pool)\n",
    "\n",
    "convolution = tf.keras.layers.Conv2D(64, (3, 3), activation='relu', input_shape=(IMG_WIDTH, IMG_HEIGHT, 3))\n",
    "model.add(convolution)\n",
    "max_pool = tf.keras.layers.MaxPooling2D(pool_size = (2,2))\n",
    "model.add(max_pool)\n",
    "\n",
    "convolution = tf.keras.layers.Conv2D(128, (3, 3), activation='relu', input_shape=(IMG_WIDTH, IMG_HEIGHT, 3))\n",
    "model.add(convolution)\n",
    "max_pool = tf.keras.layers.MaxPooling2D(pool_size = (2,2))\n",
    "model.add(max_pool)\n",
    "\n",
    "    # Flatten\n",
    "flatten = tf.keras.layers.Flatten()\n",
    "model.add(flatten)\n",
    "\n",
    "    #Hidden layer\n",
    "hidden =  tf.keras.layers.Dense(128, activation=\"relu\")\n",
    "model.add(hidden)\n",
    "dropout = tf.keras.layers.Dropout(0.5)\n",
    "model.add(dropout)\n",
    "\n",
    "    #output layer\n",
    "output = tf.keras.layers.Dense(NUM_CATEGORIES, activation=\"softmax\")\n",
    "model.add(output)\n",
    "model.compile(optimizer=\"adam\", loss=\"categorical_crossentropy\", metrics=[\"accuracy\"])\n",
    "model.summary()\n",
    "\n",
    "\n",
    "    # raise NotImplementedError"
   ]
  },
  {
   "cell_type": "code",
   "execution_count": 78,
   "id": "65097c38",
   "metadata": {
    "scrolled": true
   },
   "outputs": [
    {
     "name": "stdout",
     "output_type": "stream",
     "text": [
      "Epoch 1/10\n",
      "1/1 [==============================] - 19s 19s/step - loss: 89922688.0000 - accuracy: 0.0000e+00\n",
      "Epoch 2/10\n",
      "1/1 [==============================] - 7s 7s/step - loss: 1228615936.0000 - accuracy: 0.0000e+00\n",
      "Epoch 3/10\n",
      "1/1 [==============================] - 6s 6s/step - loss: 3983737600.0000 - accuracy: 0.0000e+00\n",
      "Epoch 4/10\n",
      "1/1 [==============================] - 6s 6s/step - loss: 9212141568.0000 - accuracy: 0.0000e+00\n",
      "Epoch 5/10\n",
      "1/1 [==============================] - 6s 6s/step - loss: 18835103744.0000 - accuracy: 0.0000e+00\n",
      "Epoch 6/10\n",
      "1/1 [==============================] - 7s 7s/step - loss: 35111944192.0000 - accuracy: 0.0000e+00\n",
      "Epoch 7/10\n",
      "1/1 [==============================] - 6s 6s/step - loss: 60535889920.0000 - accuracy: 0.0000e+00\n",
      "Epoch 8/10\n",
      "1/1 [==============================] - 6s 6s/step - loss: 97939644416.0000 - accuracy: 0.0000e+00\n",
      "Epoch 9/10\n",
      "1/1 [==============================] - 6s 6s/step - loss: 155395981312.0000 - accuracy: 0.0000e+00\n",
      "Epoch 10/10\n",
      "1/1 [==============================] - 6s 6s/step - loss: 242288345088.0000 - accuracy: 0.0000e+00\n"
     ]
    },
    {
     "data": {
      "text/plain": [
       "<keras.callbacks.History at 0x294e8d4bd00>"
      ]
     },
     "execution_count": 78,
     "metadata": {},
     "output_type": "execute_result"
    }
   ],
   "source": [
    "\n",
    "train_ip=np.array(train_data_ip)\n",
    "train_vessel=np.array(train_data_vessel)\n",
    "model.fit(train_ip, train_vessel, epochs=EPOCHS)"
   ]
  },
  {
   "cell_type": "code",
   "execution_count": 75,
   "id": "1dc3b738",
   "metadata": {},
   "outputs": [],
   "source": [
    "train_ip=np.array(train_data_ip)\n",
    "train_vessel=np.array(train_data_vessel)"
   ]
  },
  {
   "cell_type": "code",
   "execution_count": 76,
   "id": "070fd5c7",
   "metadata": {},
   "outputs": [
    {
     "data": {
      "text/plain": [
       "(20, 584, 565, 3)"
      ]
     },
     "execution_count": 76,
     "metadata": {},
     "output_type": "execute_result"
    }
   ],
   "source": [
    "train_ip.shape"
   ]
  },
  {
   "cell_type": "raw",
   "id": "04de0649",
   "metadata": {},
   "source": []
  },
  {
   "cell_type": "code",
   "execution_count": 77,
   "id": "f06c13eb",
   "metadata": {},
   "outputs": [
    {
     "data": {
      "text/plain": [
       "(20, 329960)"
      ]
     },
     "execution_count": 77,
     "metadata": {},
     "output_type": "execute_result"
    }
   ],
   "source": [
    "train_vessel.shape"
   ]
  },
  {
   "cell_type": "code",
   "execution_count": 102,
   "id": "4a664173",
   "metadata": {},
   "outputs": [
    {
     "name": "stdout",
     "output_type": "stream",
     "text": [
      "1/1 [==============================] - 1s 1s/step\n"
     ]
    }
   ],
   "source": [
    "y=model.predict(train_ip)"
   ]
  },
  {
   "cell_type": "code",
   "execution_count": 103,
   "id": "3cbc0f05",
   "metadata": {},
   "outputs": [],
   "source": [
    "t = y[0]*255\n",
    "\n",
    "ans = t.reshape(584, 565)"
   ]
  },
  {
   "cell_type": "code",
   "execution_count": 119,
   "id": "fd612190",
   "metadata": {},
   "outputs": [
    {
     "data": {
      "text/plain": [
       "<matplotlib.image.AxesImage at 0x294ef1a23d0>"
      ]
     },
     "execution_count": 119,
     "metadata": {},
     "output_type": "execute_result"
    },
    {
     "data": {
      "image/png": "[encoded data removed]",
      "text/plain": [
       "<Figure size 640x480 with 1 Axes>"
      ]
     },
     "metadata": {},
     "output_type": "display_data"
    }
   ],
   "source": [
    "plt.imshow(ans)"
   ]
  },
  {
   "cell_type": "code",
   "execution_count": 120,
   "id": "740687ef",
   "metadata": {},
   "outputs": [
    {
     "data": {
      "text/plain": [
       "array([  0., 255.], dtype=float32)"
      ]
     },
     "execution_count": 120,
     "metadata": {},
     "output_type": "execute_result"
    }
   ],
   "source": [
    "np.unique(t)"
   ]
  },
  {
   "cell_type": "code",
   "execution_count": 121,
   "id": "4767361d",
   "metadata": {},
   "outputs": [],
   "source": [
    "import PIL\n",
    "from PIL import Image\n",
    "import matplotlib.pyplot as plt\n",
    "\n",
    "# gray_img = t.convert(\"L\")\n",
    "# plt.imshow(gray_img, cmap='gray')\n",
    "\n",
    "img = Image. fromarray(ans, 'RGB')"
   ]
  },
  {
   "cell_type": "code",
   "execution_count": 123,
   "id": "e41b8417",
   "metadata": {},
   "outputs": [],
   "source": [
    "img.save('my1.png')"
   ]
  },
  {
   "cell_type": "code",
   "execution_count": 116,
   "id": "189bd62a",
   "metadata": {},
   "outputs": [],
   "source": [
    "test = cv2.imread('my.png')"
   ]
  },
  {
   "cell_type": "code",
   "execution_count": 117,
   "id": "52030b1f",
   "metadata": {},
   "outputs": [
    {
     "data": {
      "text/plain": [
       "(329960, 1, 3)"
      ]
     },
     "execution_count": 117,
     "metadata": {},
     "output_type": "execute_result"
    }
   ],
   "source": [
    "test.shape"
   ]
  },
  {
   "cell_type": "code",
   "execution_count": 127,
   "id": "f60c2549",
   "metadata": {},
   "outputs": [
    {
     "data": {
      "text/plain": [
       "array([  0., 255.], dtype=float32)"
      ]
     },
     "execution_count": 127,
     "metadata": {},
     "output_type": "execute_result"
    }
   ],
   "source": [
    "np.unique(ans)"
   ]
  },
  {
   "cell_type": "code",
   "execution_count": 128,
   "id": "ed1c7fe1",
   "metadata": {},
   "outputs": [],
   "source": [
    "uniqueValues, occurCount = np.unique(ans, return_counts=True)"
   ]
  },
  {
   "cell_type": "code",
   "execution_count": 129,
   "id": "239a518f",
   "metadata": {},
   "outputs": [
    {
     "data": {
      "text/plain": [
       "array([  0., 255.], dtype=float32)"
      ]
     },
     "execution_count": 129,
     "metadata": {},
     "output_type": "execute_result"
    }
   ],
   "source": [
    "uniqueValues"
   ]
  },
  {
   "cell_type": "code",
   "execution_count": 130,
   "id": "b7a9d57a",
   "metadata": {},
   "outputs": [
    {
     "data": {
      "text/plain": [
       "array([329959,      1], dtype=int64)"
      ]
     },
     "execution_count": 130,
     "metadata": {},
     "output_type": "execute_result"
    }
   ],
   "source": [
    "occurCount"
   ]
  }
 ],
 "metadata": {
  "kernelspec": {
   "display_name": "Python 3 (ipykernel)",
   "language": "python",
   "name": "python3"
  },
  "language_info": {
   "codemirror_mode": {
    "name": "ipython",
    "version": 3
   },
   "file_extension": ".py",
   "mimetype": "text/x-python",
   "name": "python",
   "nbconvert_exporter": "python",
   "pygments_lexer": "ipython3",
   "version": "3.8.5"
  }
 },
 "nbformat": 4,
 "nbformat_minor": 5
}
