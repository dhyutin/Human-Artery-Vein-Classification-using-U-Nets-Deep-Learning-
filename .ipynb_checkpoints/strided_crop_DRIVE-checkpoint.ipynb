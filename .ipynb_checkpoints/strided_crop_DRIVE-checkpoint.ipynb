{
 "cells": [
  {
   "cell_type": "code",
   "execution_count": 1,
   "id": "b6f05e29",
   "metadata": {},
   "outputs": [
    {
     "name": "stderr",
     "output_type": "stream",
     "text": [
      "usage: ipykernel_launcher.py [-h] [--input_dim INPUT_DIM] [--stride STRIDE]\n",
      "ipykernel_launcher.py: error: unrecognized arguments: -f C:\\Users\\dhyut\\AppData\\Roaming\\jupyter\\runtime\\kernel-6964fb5b-0a69-4328-b3b1-359a759ee8e6.json\n"
     ]
    },
    {
     "ename": "SystemExit",
     "evalue": "2",
     "output_type": "error",
     "traceback": [
      "An exception has occurred, use %tb to see the full traceback.\n",
      "\u001b[1;31mSystemExit\u001b[0m\u001b[1;31m:\u001b[0m 2\n"
     ]
    },
    {
     "name": "stderr",
     "output_type": "stream",
     "text": [
      "c:\\users\\dhyut\\appdata\\local\\programs\\python\\python38\\lib\\site-packages\\IPython\\core\\interactiveshell.py:3406: UserWarning: To exit: use 'exit', 'quit', or Ctrl-D.\n",
      "  warn(\"To exit: use 'exit', 'quit', or Ctrl-D.\", stacklevel=1)\n"
     ]
    }
   ],
   "source": [
    "from PIL import Image\n",
    "import numpy as np\n",
    "import random\n",
    "import os\n",
    "import argparse\n",
    "\n",
    "def strided_crop(img, mask, label, height, width, name,stride=1):\n",
    "    directories = ['Drive_crop','Drive_crop/Images','Drive_crop/Masks','Drive_crop/labels']\n",
    "    for directory in directories:\n",
    "        if not os.path.exists(directory):\n",
    "            os.makedirs(directory)\n",
    "    max_x = int(((img.shape[0]-height)/stride)+1)\n",
    "    #print(\"max_x:\",max_x)\n",
    "    max_y = int(((img.shape[1]-width)/stride)+1)\n",
    "    #print(\"max_y:\",max_y)\n",
    "    max_crops = (max_x)*(max_y)\n",
    "    i = 0\n",
    "    for h in range(max_x):\n",
    "        for w in range(max_y):\n",
    "                crop_img_arr = img[h * stride:(h * stride) + height,w * stride:(w * stride) + width]\n",
    "                #print(crop_img_arr.shape)\n",
    "                crop_mask_arr = mask[h * stride:(h * stride) + height,w * stride:(w * stride) + width]\n",
    "                crop_label_arr = label[h * stride:(h * stride) + height,w * stride:(w * stride) + width]\n",
    "                crop_img = Image.fromarray(crop_img_arr)\n",
    "                crop_mask = Image.fromarray(crop_mask_arr)\n",
    "                crop_label = Image.fromarray(crop_label_arr)\n",
    "                img_name = directories[1] + \"/\" + name + \"_\" + str(i+1)+\".png\"\n",
    "                mask_name = directories[2] + \"/\" + name + \"_mask_\" + str(i+1)+\".png\"\n",
    "                label_name = directories[3] + \"/\" + name + \"_label_\" + str(i+1)+\".png\"\n",
    "                crop_img.save(img_name)\n",
    "                crop_mask.save(mask_name)\n",
    "                crop_label.save(label_name)\n",
    "                i = i + 1\n",
    "                #print(i)\n",
    "\n",
    "if __name__ == \"__main__\":\n",
    "\n",
    "    parser = argparse.ArgumentParser()\n",
    "    parser.add_argument('--input_dim', type=int, default=128)\n",
    "    parser.add_argument('--stride', type=int, default=32)\n",
    "    args = parser.parse_args()\n",
    "\n",
    "    for i in range(21,41):\n",
    "            \n",
    "        img_name = \"DRIVE/training/images/\"+str(i)+\"_training.tif\"\n",
    "        im = Image.open(img_name)\n",
    "        img_arr = np.asarray(im)\n",
    "        mask_name = \"DRIVE/training/mask/\"+str(i)+\"_training.png\"\n",
    "        mask = Image.open(mask_name)\n",
    "        mask_arr = np.asarray(mask)\n",
    "        label_name = \"DRIVE/training/av/\"+str(i)+\"_training.png\"\n",
    "        label = Image.open(label_name)\n",
    "        label_arr = np.asarray(label)\n",
    "        \n",
    "        name = str(i)\n",
    "        strided_crop(img_arr, mask_arr, label_arr, args.input_dim, args.input_dim,name,args.stride)"
   ]
  },
  {
   "cell_type": "code",
   "execution_count": null,
   "id": "94edf010",
   "metadata": {},
   "outputs": [],
   "source": []
  }
 ],
 "metadata": {
  "kernelspec": {
   "display_name": "Python 3 (ipykernel)",
   "language": "python",
   "name": "python3"
  },
  "language_info": {
   "codemirror_mode": {
    "name": "ipython",
    "version": 3
   },
   "file_extension": ".py",
   "mimetype": "text/x-python",
   "name": "python",
   "nbconvert_exporter": "python",
   "pygments_lexer": "ipython3",
   "version": "3.8.5"
  }
 },
 "nbformat": 4,
 "nbformat_minor": 5
}
